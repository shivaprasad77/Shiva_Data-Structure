{
 "cells": [
  {
   "cell_type": "markdown",
   "metadata": {
    "id": "pmoOUfH8PlgH"
   },
   "source": []
  },
  {
   "cell_type": "markdown",
   "metadata": {
    "id": "-fl8LSFePoFy"
   },
   "source": [
    "#1 What are data structures, and why are they important?\n",
    "  Data structures are ways of organizing, storing, and managing data so that it can be accessed and modified efficiently. They form the backbone of most computer programs and are critical in enabling efficient algorithm design.\n",
    "  \n",
    "  Choosing the right data structure improves the performance of your program in terms of time (speed) and space (memory). Helps in organizing complex data in a manageable way. Makes code easier to understand and maintain. Many algorithms rely on specific data structures for optimal functioning. Effective use of data structures is essential in solving real-world computing problems and in competitive programming.\n",
    "\n"
   ]
  },
  {
   "cell_type": "markdown",
   "metadata": {
    "id": "3jcAqdWuQzDC"
   },
   "source": [
    "#2  Explain the difference between mutable and immutable data types with examples.\n",
    "  Mutable Data types can be changed after creation. You can modify, add, or remove elements without changing the object’s identity.\n",
    "  Examples: Lists, Dictionaries, Sets"
   ]
  },
  {
   "cell_type": "code",
   "execution_count": null,
   "metadata": {
    "colab": {
     "base_uri": "https://localhost:8080/"
    },
    "id": "Fh91nEPxSqIB",
    "outputId": "696af7e9-8788-43ba-a5c3-1faab55c36cd"
   },
   "outputs": [
    {
     "data": {
      "text/plain": [
       "[1, 2, 3]"
      ]
     },
     "execution_count": 1,
     "metadata": {},
     "output_type": "execute_result"
    }
   ],
   "source": [
    "a = [1,2,3]\n",
    "print (a)"
   ]
  },
  {
   "cell_type": "code",
   "execution_count": null,
   "metadata": {
    "colab": {
     "base_uri": "https://localhost:8080/"
    },
    "id": "fWNKX-sdS4N0",
    "outputId": "18cdf2a3-60d9-4020-9209-4b172f23bc9f"
   },
   "outputs": [
    {
     "name": "stdout",
     "output_type": "stream",
     "text": [
      "[1, 2, 3, 4]\n"
     ]
    }
   ],
   "source": [
    "a.append (4)\n",
    "print (a)"
   ]
  },
  {
   "cell_type": "markdown",
   "metadata": {
    "id": "lw8qSmH5TJhH"
   },
   "source": [
    "Immutable Data types can't be changed after creation. Any operation that seems to change them will create a new object.\n",
    "  Examples: Integers, Floats, Booleans, Strings, Tuples"
   ]
  },
  {
   "cell_type": "code",
   "execution_count": null,
   "metadata": {
    "colab": {
     "base_uri": "https://localhost:8080/"
    },
    "id": "VNkgP15sTP8W",
    "outputId": "2555b3c4-b714-47db-f05a-72e5cb1d1b53"
   },
   "outputs": [
    {
     "name": "stdout",
     "output_type": "stream",
     "text": [
      "Hello\n"
     ]
    }
   ],
   "source": [
    "a = \"Hello\"\n",
    "print (a)"
   ]
  },
  {
   "cell_type": "code",
   "execution_count": null,
   "metadata": {
    "colab": {
     "base_uri": "https://localhost:8080/"
    },
    "id": "aGs-kBS2TrHa",
    "outputId": "1302c14c-0a57-4292-c4a3-cff116ae12f0"
   },
   "outputs": [
    {
     "data": {
      "text/plain": [
       "str"
      ]
     },
     "execution_count": 5,
     "metadata": {},
     "output_type": "execute_result"
    }
   ],
   "source": [
    "type (a)"
   ]
  },
  {
   "cell_type": "code",
   "execution_count": null,
   "metadata": {
    "colab": {
     "base_uri": "https://localhost:8080/"
    },
    "id": "VUoOmt57VFA5",
    "outputId": "e531c536-a681-4019-b835-6a57f365861e"
   },
   "outputs": [
    {
     "name": "stdout",
     "output_type": "stream",
     "text": [
      "Prachi\n"
     ]
    }
   ],
   "source": [
    "name = \"Prachi\"\n",
    "print (name)"
   ]
  },
  {
   "cell_type": "code",
   "execution_count": null,
   "metadata": {
    "colab": {
     "base_uri": "https://localhost:8080/"
    },
    "id": "p4Io5zw8VQtI",
    "outputId": "42be05b4-3ebb-4034-c42c-8aba433618b1"
   },
   "outputs": [
    {
     "name": "stdout",
     "output_type": "stream",
     "text": [
      "PrachiPratikhyaPratikhyaPratikhyaPratikhyaPratikhya\n"
     ]
    }
   ],
   "source": [
    "Name = name + \"Pratikhya\"\n",
    "print (Name)"
   ]
  },
  {
   "cell_type": "markdown",
   "metadata": {
    "id": "MiXTLbzNVyA9"
   },
   "source": [
    "#3 What are the main differences between lists and tuples in Python?\n",
    "   Lists are mutable objects and Tuples are immutable objects. Once defined, tuples have a fixed length and lists have a dynamic length. Tuples use less memory and are faster to access than to lists. Tuple syntax uses round brackets or parenthesis, and list syntax uses square brackets.\n",
    "   "
   ]
  },
  {
   "cell_type": "markdown",
   "metadata": {
    "id": "SydKfFixWpuR"
   },
   "source": [
    "#4 Describe how dictionaries store data.\n",
    "  A dictionary in Python stores data as key-value pairs using a structure called a hash table. Python employs a hashing algorithm: The key is submitted to a hash function. This function produces a hash code (a numerical value). That hash code idictates the location in memory for storing the key-value pair.\n",
    "  "
   ]
  },
  {
   "cell_type": "code",
   "execution_count": null,
   "metadata": {
    "id": "ZsbogT93XxyD"
   },
   "outputs": [],
   "source": [
    "my_profile = {\"name\":\"Prachi\",\"age\":\"27\",\"State\":\"Odisha\"}\n",
    "Here \"name\",\"age\",\"State\" are keys\n",
    "And \"Prachi\",\"27\",\"Odisha\" are values\n"
   ]
  },
  {
   "cell_type": "markdown",
   "metadata": {
    "id": "oijEpkgjZAFt"
   },
   "source": [
    "Each key is unique, and it is used to quickly look up the corresponding value."
   ]
  },
  {
   "cell_type": "markdown",
   "metadata": {
    "id": "wHHa7jC1Y8kl"
   },
   "source": []
  },
  {
   "cell_type": "markdown",
   "metadata": {
    "id": "I_tvAvfWZDZN"
   },
   "source": [
    "#5 Why might you use a set instead of a list in Python?\n",
    "  When to Use a Set:\n",
    "When you need to store unique elements. When the order of elements doesn't matter. When you need to perform frequent membership tests. When you need to perform set operations. When you need to remove duplicates from a collection. When to Use a List: When you need to store elements in a specific order. When you need to access elements by their index. When you need to store duplicate elements. When you need to add, remove, or modify elements frequently."
   ]
  },
  {
   "cell_type": "markdown",
   "metadata": {
    "id": "HjrGRH0lcJXY"
   },
   "source": [
    "#6 What is a string in Python, and how is it different from a list?\n",
    "  \n"
   ]
  },
  {
   "cell_type": "markdown",
   "metadata": {
    "id": "x2k1GyYjc34Q"
   },
   "source": [
    "In python String is immutable which can't be changed when created. It can contain letters, numbers, symbols.\n",
    "Strings are defined using either single quotes, double quotes, or triple quotes. A list, on the other hand, is a mutable sequence of elements, which means you can modify, add, or remove elements after the list has been created. Lists are defined using square brackets and can contain elements of different data types."
   ]
  },
  {
   "cell_type": "markdown",
   "metadata": {
    "id": "qH5fAaHNgNyt"
   },
   "source": [
    "#7  How do tuples ensure data integrity in Python?\n",
    "  In Python tuples help preserve data integrity mainly because they are immutable. Once a tuple is created, you cannot change, add, or remove any elements in it.\n",
    "\n"
   ]
  },
  {
   "cell_type": "markdown",
   "metadata": {
    "id": "-sYs1N08hsUB"
   },
   "source": [
    "#8 What is a hash table, and how does it relate to dictionaries in Python?\n",
    "  A hash table is a data structure that stores data in key-value pairs. It uses a process called hashing to map keys to indexes in memory where the corresponding values are stored.\n",
    "\n",
    "  In **Python 3**, a **dictionary (`dict`)** is an implementation of a hash table, where keys are hashed to efficiently store and retrieve values.\n",
    "  "
   ]
  },
  {
   "cell_type": "markdown",
   "metadata": {
    "id": "Vfu1B-pTiewV"
   },
   "source": [
    "#9 Can lists contain different data types in Python?\n",
    "  Yes, lists in Python 3 can contain different data types, such as integers, strings, floats, or even other lists and objects, all in the same list."
   ]
  },
  {
   "cell_type": "markdown",
   "metadata": {
    "id": "aX3TKU4_izoE"
   },
   "source": [
    "#10 Explain why strings are immutable in Python.\n",
    "  Strings are immutable in Python because once a string is created, its contents cannot be changed. This design:\n",
    "\n",
    "  A. Ensures data integrity – accidental changes are avoided.\n",
    "\n",
    "  B. Enables memory efficiency – identical strings can be shared.\n",
    "  \n",
    "  C. Supports hashability – strings can be used as dictionary keys.\n",
    "\n",
    "  To modify a string, Python creates a new one instead of altering the original."
   ]
  },
  {
   "cell_type": "markdown",
   "metadata": {
    "id": "4gWA2PUZldDL"
   },
   "source": [
    "#11 What advantages do dictionaries offer over lists for certain tasks?\n",
    "  Dictionaries offer several advantages over lists for certain tasks:\n",
    "\n",
    "1.   Faster lookups – Accessing values by key is much faster (O(1) on average) than searching through a list.\n",
    "\n",
    "2.   Key-based access - You can access data using meaningful keys instead of numeric indexes.\n",
    "\n",
    "3.   Better organization – Data is stored in key-value pairs, making it easier to represent real-world relationships.\n",
    "\n",
    "4.   No need for index management – You don't need to track positions; just use keys.\n",
    "\n"
   ]
  },
  {
   "cell_type": "markdown",
   "metadata": {
    "id": "qLKV-uLHob-M"
   },
   "source": [
    "#12 Describe a scenario where using a tuple would be preferable over a list.\n",
    "  A tuple is preferable over a list when you need to store a fixed set of values that should not change, such as the coordinates of a point (x, y) or the days of the week. For example, storing a point as (10, 20) ensures the values remain constant and prevents accidental modification, helping maintain data integrity.\n",
    "  "
   ]
  },
  {
   "cell_type": "markdown",
   "metadata": {
    "id": "U45jBLUXpQIA"
   },
   "source": [
    "#13  How do sets handle duplicate values in Python?\n",
    "  In Python 3, sets automatically remove duplicate values — they only store unique elements. If you try to add a duplicate, the set ignores it."
   ]
  },
  {
   "cell_type": "markdown",
   "metadata": {
    "id": "z1EKGLOXSfyb"
   },
   "source": []
  },
  {
   "cell_type": "markdown",
   "metadata": {
    "id": "wgcfe30Cq1LT"
   },
   "source": [
    "#14  How does the “in” keyword work differently for lists and dictionaries?\n",
    "  In Python 3, the in keyword works differently for lists and dictionaries: In a list, in checks if a value exists among the elements. 3 in [1, 2, 3] # True In a dictionary, in checks if a key exists (not the value). 'name' in {'name': 'Alice', 'age': 25} # True\n",
    "  "
   ]
  },
  {
   "cell_type": "markdown",
   "metadata": {
    "id": "mojcgPborST6"
   },
   "source": [
    "#15 Can you modify the elements of a tuple? Explain why or why not.\n",
    "  No, you cannot modify the elements of a tuple because tuples are immutable in Python. This means once a tuple is created, its contents (values at each index) cannot be changed, added to, or removed — ensuring data remains consistent and protected from unintended changes.       "
   ]
  },
  {
   "cell_type": "markdown",
   "metadata": {
    "id": "jRmFZbLMrzLe"
   },
   "source": [
    "#16 What is a nested dictionary, and give an example of its use case?\n",
    "  A nested dictionary is a dictionary where values themselves are dictionaries. It allows you to represent hierarchical or structured data. example students = { \"101\": {\"name\": \"Alice\", \"grade\": \"A\"}, \"102\": {\"name\": \"Bob\", \"grade\": \"B\"} } Here, each student ID maps to another dictionary containing that student's details."
   ]
  },
  {
   "cell_type": "markdown",
   "metadata": {
    "id": "uZuHjkuqsypm"
   },
   "source": [
    "#17  Describe the time complexity of accessing elements in a dictionary.\n",
    "  The time complexity of accessing elements in a dictionary in Python is O(1) on average, due to its underlying hash table implementation. However, in rare cases (like hash collisions), it can degrade to O(n), but this is uncommon with Python’s optimized hashing.\n",
    "  "
   ]
  },
  {
   "cell_type": "markdown",
   "metadata": {
    "id": "BFY7o4LrtR_O"
   },
   "source": [
    "#18  In what situations are lists preferred over dictionaries?\n",
    "  Lists are preferred over dictionaries in situations where:\n",
    "  \n",
    "  A. Order matters – Lists maintain the order of elements.\n",
    "\n",
    "  B. You need sequential data – Like iterating over items by position.\n",
    "\n",
    "  C. You don’t need key-value pairs – Just values in a simple collection.\n",
    "\n",
    "  D. Data is homogeneous – Like a list of numbers or strings.\n",
    "\n",
    "  E. Index-based access is required – Accessing elements by their position.\n",
    "\n",
    "  Example: Storing names in a class roster where order is important – [\"Neha\", \"Niki\", \"Pihu\"]"
   ]
  },
  {
   "cell_type": "markdown",
   "metadata": {
    "id": "JC1ZiHXmtTPU"
   },
   "source": [
    "#19 Why are dictionaries considered unordered, and how does that affect data retrieval?\n",
    "Dictionaries were traditionally considered unordered in Python because they did not maintain the insertion order of key-value pairs (before python 3.7).However, from Python 3.7 onward, dictionaries preserve insertion order, but they are still conceptually unordered because:Their primary design is based on hashing, not order.Keys are stored based on their hash values, not sequence."
   ]
  },
  {
   "cell_type": "markdown",
   "metadata": {
    "id": "4fhBM2yW0bgx"
   },
   "source": [
    "#20  Explain the difference between a list and a dictionary in terms of data retrieval.\n",
    "The main difference between a list and a dictionary in terms of data retrieval is:\n",
    "\n",
    "List:\n",
    "Uses integer indexes to access elements.\n",
    "Retrieval is position-based (e.g., my_list[0]).\n",
    "Slower for searching values, especially in large lists (O(n) time).\n",
    "\n",
    "Dictionary:\n",
    "Uses keys (which can be strings, numbers, etc.) to access values.\n",
    "Retrieval is key-based (e.g., my_dict[\"name\"]).\n",
    "Much faster access on average (O(1) time) due to hash tables\n"
   ]
  },
  {
   "cell_type": "markdown",
   "metadata": {
    "id": "jktnUOU0tTw2"
   },
   "source": [
    "PRACTICAl QUESTIONS:\n"
   ]
  },
  {
   "cell_type": "code",
   "execution_count": null,
   "metadata": {
    "colab": {
     "base_uri": "https://localhost:8080/"
    },
    "id": "ipfjJnDO3tKl",
    "outputId": "a3229a5a-a7ef-4ef6-cfac-9b0cca0497fc"
   },
   "outputs": [
    {
     "name": "stdout",
     "output_type": "stream",
     "text": [
      "Prachi Pratikhya\n"
     ]
    }
   ],
   "source": [
    "#Q1 Write a code to create a string with your name and print it\n",
    "\n",
    "# Creating a string with my name\n",
    "name = \"Prachi Pratikhya\"\n",
    "\n",
    "# Printing the name\n",
    "print(name)"
   ]
  },
  {
   "cell_type": "code",
   "execution_count": null,
   "metadata": {
    "colab": {
     "base_uri": "https://localhost:8080/"
    },
    "id": "FYlhXKlI3Mx7",
    "outputId": "5ae80aae-11c2-4ab2-e710-038fa9b61bc9"
   },
   "outputs": [
    {
     "name": "stdout",
     "output_type": "stream",
     "text": [
      "11\n"
     ]
    }
   ],
   "source": [
    "#Q2 Write a code to find the length of the string \"Hello World\".\n",
    "\n",
    "# Defining the string\n",
    "text = \"Hello World\"\n",
    "\n",
    "# Finding and printing the length of the string\n",
    "print(len(text))"
   ]
  },
  {
   "cell_type": "code",
   "execution_count": null,
   "metadata": {
    "colab": {
     "base_uri": "https://localhost:8080/"
    },
    "id": "154uFxgQ4LDx",
    "outputId": "ee9451f6-13ac-4fae-cb48-8029249e0b7e"
   },
   "outputs": [
    {
     "name": "stdout",
     "output_type": "stream",
     "text": [
      "Pyt\n"
     ]
    }
   ],
   "source": [
    "#Q3 Write a code to slice the first 3 characters from the string \"Python Programming\".\n",
    "\n",
    "# Defining the string\n",
    "text = \"Python Programming\"\n",
    "\n",
    "# Slicing the first 3 characters\n",
    "sliced_text = text[:3]\n",
    "\n",
    "# Printing the result\n",
    "print(sliced_text)"
   ]
  },
  {
   "cell_type": "code",
   "execution_count": null,
   "metadata": {
    "colab": {
     "base_uri": "https://localhost:8080/"
    },
    "id": "-NN0z5wD4eMi",
    "outputId": "a24f5930-3956-4687-84d7-9c0a02b303f4"
   },
   "outputs": [
    {
     "name": "stdout",
     "output_type": "stream",
     "text": [
      "HELLO\n"
     ]
    }
   ],
   "source": [
    "#Q4 Write a code to convert the string \"hello\" to uppercase.\n",
    "\n",
    "# Defining the string\n",
    "text = \"hello\"\n",
    "\n",
    "# Converting to uppercase\n",
    "uppercase_text = text.upper()\n",
    "\n",
    "# Printing the result\n",
    "print(uppercase_text)"
   ]
  },
  {
   "cell_type": "code",
   "execution_count": null,
   "metadata": {
    "colab": {
     "base_uri": "https://localhost:8080/"
    },
    "id": "wVzeFU9y49bc",
    "outputId": "0f92c9fc-38f7-461a-9ac7-9c99526679ea"
   },
   "outputs": [
    {
     "name": "stdout",
     "output_type": "stream",
     "text": [
      "I like orange\n"
     ]
    }
   ],
   "source": [
    "#Q5 Write a code to replace the word \"apple\" with \"orange\" in the string \"I like apple\".\n",
    "\n",
    "# Defining the string\n",
    "text = \"I like apple\"\n",
    "\n",
    "# Replacing \"apple\" with \"orange\"\n",
    "modified_text = text.replace(\"apple\", \"orange\")\n",
    "\n",
    "# Printing the result\n",
    "print(modified_text)"
   ]
  },
  {
   "cell_type": "code",
   "execution_count": null,
   "metadata": {
    "colab": {
     "base_uri": "https://localhost:8080/"
    },
    "id": "APc9EBUX5K0G",
    "outputId": "ecf9f592-6288-4dec-d8d8-4d59ac2599d3"
   },
   "outputs": [
    {
     "name": "stdout",
     "output_type": "stream",
     "text": [
      "[1, 2, 3, 4, 5]\n"
     ]
    }
   ],
   "source": [
    "#Q6 Write a code to create a list with numbers 1 to 5 and print it.\n",
    "\n",
    "# Creating a list with numbers 1 to 5\n",
    "numbers = [1, 2, 3, 4, 5]\n",
    "\n",
    "# Printing the list\n",
    "print(numbers)"
   ]
  },
  {
   "cell_type": "code",
   "execution_count": null,
   "metadata": {
    "colab": {
     "base_uri": "https://localhost:8080/"
    },
    "id": "WAdvC00L5gYB",
    "outputId": "08f26dd7-9855-4b53-915a-92bf839aee37"
   },
   "outputs": [
    {
     "name": "stdout",
     "output_type": "stream",
     "text": [
      "[1, 2, 3, 4, 10]\n"
     ]
    }
   ],
   "source": [
    "#Q7 Write a code to append the number 10 to the list [1, 2, 3, 4].\n",
    "\n",
    "# Defining the list\n",
    "numbers = [1, 2, 3, 4]\n",
    "\n",
    "# Appending the number 10\n",
    "numbers.append(10)\n",
    "\n",
    "# Printing the updated list\n",
    "print(numbers)"
   ]
  },
  {
   "cell_type": "code",
   "execution_count": null,
   "metadata": {
    "colab": {
     "base_uri": "https://localhost:8080/"
    },
    "id": "wo03zYPy5uN-",
    "outputId": "7c893c50-5344-4400-9cc8-fba346036c0a"
   },
   "outputs": [
    {
     "name": "stdout",
     "output_type": "stream",
     "text": [
      "[1, 2, 4, 5]\n"
     ]
    }
   ],
   "source": [
    "#Q8 Write a code to remove the number 3 from the list [1, 2, 3, 4, 5].\n",
    "\n",
    "# Defining the list\n",
    "numbers = [1, 2, 3, 4, 5]\n",
    "\n",
    "# Removing the number 3\n",
    "numbers.remove(3)\n",
    "\n",
    "# Printing the updated list\n",
    "print(numbers)"
   ]
  },
  {
   "cell_type": "code",
   "execution_count": null,
   "metadata": {
    "colab": {
     "base_uri": "https://localhost:8080/"
    },
    "id": "vMp0XJeS6FNW",
    "outputId": "01286021-aafd-4143-a9f7-5bf085528c38"
   },
   "outputs": [
    {
     "name": "stdout",
     "output_type": "stream",
     "text": [
      "b\n"
     ]
    }
   ],
   "source": [
    "#Q9 Write a code to access the second element in the list ['a', 'b', 'c', 'd'].\n",
    "\n",
    "# Defining the list\n",
    "letters = ['a', 'b', 'c', 'd']\n",
    "\n",
    "# Accessing the second element\n",
    "second_element = letters[1]\n",
    "\n",
    "# Printing the result\n",
    "print(second_element)"
   ]
  },
  {
   "cell_type": "code",
   "execution_count": null,
   "metadata": {
    "colab": {
     "base_uri": "https://localhost:8080/"
    },
    "id": "1Dlz1s_z6Psp",
    "outputId": "b452efe8-54ea-450e-fc27-5d21595c4af1"
   },
   "outputs": [
    {
     "name": "stdout",
     "output_type": "stream",
     "text": [
      "[50, 40, 30, 20, 10]\n"
     ]
    }
   ],
   "source": [
    "#Q10 Write a code to reverse the list [10, 20, 30, 40, 50].\n",
    "\n",
    "# Defining the list\n",
    "numbers = [10, 20, 30, 40, 50]\n",
    "\n",
    "# Reversing the list\n",
    "numbers.reverse()\n",
    "\n",
    "# Printing the reversed list\n",
    "print(numbers)"
   ]
  },
  {
   "cell_type": "code",
   "execution_count": null,
   "metadata": {
    "id": "xGwOCL9L9osx"
   },
   "outputs": [],
   "source": [
    "#Q11  Write a code to create a tuple with the elements 100, 200, 300 and print it.\n",
    "\n",
    "# Creating a tuple\n",
    "numbers_tuple = (100, 200, 300)\n",
    "\n",
    "# Printing the tuple\n",
    "print(numbers_tuple)"
   ]
  },
  {
   "cell_type": "code",
   "execution_count": 1,
   "metadata": {
    "colab": {
     "base_uri": "https://localhost:8080/"
    },
    "id": "e2PR4PwvLOL9",
    "outputId": "dcfa17ac-edee-4a83-dea9-1c1b94189a2d"
   },
   "outputs": [
    {
     "name": "stdout",
     "output_type": "stream",
     "text": [
      "blue\n"
     ]
    }
   ],
   "source": [
    "#Q12  Write a code to access the second-to-last element of the tuple ('red', 'green', 'blue', 'yellow').\n",
    "\n",
    "# Defining the tuple\n",
    "colors = ('red', 'green', 'blue', 'yellow')\n",
    "\n",
    "# Accessing the second-to-last element\n",
    "second_last_element = colors[-2]\n",
    "\n",
    "# Printing the result\n",
    "print(second_last_element)"
   ]
  },
  {
   "cell_type": "code",
   "execution_count": 2,
   "metadata": {
    "colab": {
     "base_uri": "https://localhost:8080/"
    },
    "id": "zWXNj2DQMb1S",
    "outputId": "e7a46a75-adff-4a05-fb8f-b61728038c50"
   },
   "outputs": [
    {
     "name": "stdout",
     "output_type": "stream",
     "text": [
      "5\n"
     ]
    }
   ],
   "source": [
    "#Q13 Write a code to find the minimum number in the tuple (10, 20, 5, 15).\n",
    "\n",
    "# Defining the tuple\n",
    "numbers = (10, 20, 5, 15)\n",
    "\n",
    "# Finding the minimum number\n",
    "min_number = min(numbers)\n",
    "\n",
    "# Printing the result\n",
    "print(min_number)"
   ]
  },
  {
   "cell_type": "code",
   "execution_count": 3,
   "metadata": {
    "colab": {
     "base_uri": "https://localhost:8080/"
    },
    "id": "nb0ekor5N2sk",
    "outputId": "a5cc82fc-9384-46cf-d8e6-45bfbeedede6"
   },
   "outputs": [
    {
     "name": "stdout",
     "output_type": "stream",
     "text": [
      "1\n"
     ]
    }
   ],
   "source": [
    "#Q14 Write a code to find the index of the element \"cat\" in the tuple ('dog', 'cat', 'rabbit')\n",
    "\n",
    "# Defining the tuple\n",
    "animals = ('dog', 'cat', 'rabbit')\n",
    "\n",
    "# Finding the index of 'cat'\n",
    "cat_index = animals.index('cat')\n",
    "\n",
    "# Printing the result\n",
    "print(cat_index)"
   ]
  },
  {
   "cell_type": "code",
   "execution_count": 5,
   "metadata": {
    "colab": {
     "base_uri": "https://localhost:8080/"
    },
    "id": "chceynbGOGG2",
    "outputId": "c5007e28-5dac-4562-f034-f9b6fb17bbd2"
   },
   "outputs": [
    {
     "name": "stdout",
     "output_type": "stream",
     "text": [
      "No, 'kiwi' is not in the tuple.\n"
     ]
    }
   ],
   "source": [
    "#Q15 Write a code to create a tuple containing three different fruits and check if \"kiwi\" is in it.\n",
    "\n",
    "# Defining the tuple with three different fruits\n",
    "fruits = (\"apple\", \"banana\", \"mango\")\n",
    "\n",
    "if 'kiwi' in fruits:\n",
    "    print(\"Yes, 'kiwi' is in the tuple.\")\n",
    "else:\n",
    "    print(\"No, 'kiwi' is not in the tuple.\")"
   ]
  },
  {
   "cell_type": "code",
   "execution_count": 6,
   "metadata": {
    "colab": {
     "base_uri": "https://localhost:8080/"
    },
    "id": "pDm3qCWXOTV0",
    "outputId": "ab6e84de-b954-4df2-ddeb-9aed56a50d87"
   },
   "outputs": [
    {
     "name": "stdout",
     "output_type": "stream",
     "text": [
      "{'c', 'b', 'a'}\n"
     ]
    }
   ],
   "source": [
    "#Q16 Write a code to create a set with the elements 'a', 'b', 'c' and print it.\n",
    "\n",
    "# Creating a set with elements 'a', 'b', 'c'\n",
    "my_set = {'a', 'b', 'c'}\n",
    "\n",
    "# Printing the set\n",
    "print(my_set)\n"
   ]
  },
  {
   "cell_type": "code",
   "execution_count": 7,
   "metadata": {
    "colab": {
     "base_uri": "https://localhost:8080/"
    },
    "id": "5Q-ZjQcgPOgN",
    "outputId": "ec1a978c-f626-4552-a48c-ed8c87811707"
   },
   "outputs": [
    {
     "name": "stdout",
     "output_type": "stream",
     "text": [
      "set()\n"
     ]
    }
   ],
   "source": [
    "#Q17  Write a code to clear all elements from the set {1, 2, 3, 4, 5}\n",
    "\n",
    "# Creating a set with elements {1, 2, 3, 4, 5}\n",
    "my_set = {1, 2, 3, 4, 5}\n",
    "\n",
    "# Clearing all elements from the set\n",
    "my_set.clear()\n",
    "\n",
    "# Printing the set after clearing\n",
    "print(my_set)"
   ]
  },
  {
   "cell_type": "code",
   "execution_count": 8,
   "metadata": {
    "colab": {
     "base_uri": "https://localhost:8080/"
    },
    "id": "4ogVrS5gPwns",
    "outputId": "44066022-fd49-42d7-e22a-51d9107f6df6"
   },
   "outputs": [
    {
     "name": "stdout",
     "output_type": "stream",
     "text": [
      "{1, 2, 3}\n"
     ]
    }
   ],
   "source": [
    "#Q18 Write a code to remove the element 4 from the set {1, 2, 3, 4}.\n",
    "\n",
    "# Creating a set with elements {1, 2, 3, 4}\n",
    "my_set = {1, 2, 3, 4}\n",
    "\n",
    "# Removing the element 4 from the set\n",
    "my_set.remove(4)\n",
    "\n",
    "# Printing the set after removal\n",
    "print(my_set)"
   ]
  },
  {
   "cell_type": "code",
   "execution_count": 9,
   "metadata": {
    "colab": {
     "base_uri": "https://localhost:8080/"
    },
    "id": "Mr0fKRcZQNma",
    "outputId": "52b9dbc1-3ff2-4f64-e910-114a2f2741b3"
   },
   "outputs": [
    {
     "name": "stdout",
     "output_type": "stream",
     "text": [
      "{1, 2, 3, 4, 5}\n"
     ]
    }
   ],
   "source": [
    "#Q19 Write a code to find the union of two sets {1, 2, 3} and {3, 4, 5}.\n",
    "\n",
    "# Creating two sets\n",
    "set1 = {1, 2, 3}\n",
    "set2 = {3, 4, 5}\n",
    "\n",
    "# Finding the union of the sets\n",
    "union_set = set1.union(set2)\n",
    "\n",
    "# Printing the result\n",
    "print(union_set)"
   ]
  },
  {
   "cell_type": "code",
   "execution_count": 10,
   "metadata": {
    "colab": {
     "base_uri": "https://localhost:8080/"
    },
    "id": "pcjpuc0xRQXj",
    "outputId": "65785d67-d7a0-4ad2-8b1d-5a34f5d2f870"
   },
   "outputs": [
    {
     "name": "stdout",
     "output_type": "stream",
     "text": [
      "{2, 3}\n"
     ]
    }
   ],
   "source": [
    "#Q20 Write a code to find the intersection of two sets {1, 2, 3} and {2, 3, 4}.\n",
    "\n",
    "# Creating two sets\n",
    "set1 = {1, 2, 3}\n",
    "set2 = {2, 3, 4}\n",
    "\n",
    "# Finding the intersection of the sets\n",
    "intersection_set = set1.intersection(set2)\n",
    "\n",
    "# Printing the result\n",
    "print(intersection_set)"
   ]
  },
  {
   "cell_type": "code",
   "execution_count": 11,
   "metadata": {
    "colab": {
     "base_uri": "https://localhost:8080/"
    },
    "id": "j3FhujZfRdzr",
    "outputId": "3438e2b1-2977-4ee0-dba6-2d77d7a4201c"
   },
   "outputs": [
    {
     "name": "stdout",
     "output_type": "stream",
     "text": [
      "{'name': 'Prachi', 'age': 27, 'city': 'Puri'}\n"
     ]
    }
   ],
   "source": [
    "#Q21 Write a code to create a dictionary with the keys \"name\", \"age\", and \"city\", and print it.\n",
    "\n",
    "# Creating a dictionary with keys \"name\", \"age\", and \"city\"\n",
    "person = {\"name\": \"Prachi\",\"age\": 27,\"city\": \"Puri\"}\n",
    "\n",
    "# Printing the dictionary\n",
    "print(person)"
   ]
  },
  {
   "cell_type": "code",
   "execution_count": 12,
   "metadata": {
    "colab": {
     "base_uri": "https://localhost:8080/"
    },
    "id": "Jo7XSL9zSAGX",
    "outputId": "b4a8c34f-b1d3-4970-bd7f-99ca24b7d601"
   },
   "outputs": [
    {
     "name": "stdout",
     "output_type": "stream",
     "text": [
      "{'name': 'John', 'age': 25, 'country': 'USA'}\n"
     ]
    }
   ],
   "source": [
    "#Q22 Write a code to add a new key-value pair \"country\": \"USA\" to the dictionary {'name': 'John', 'age': 25}.\n",
    "\n",
    "# Define the dictionary\n",
    "person = {'name': 'John', 'age': 25}\n",
    "\n",
    "# Add a new key-value pair\n",
    "person['country'] = 'USA'\n",
    "\n",
    "# Print the updated dictionary\n",
    "print(person)"
   ]
  },
  {
   "cell_type": "code",
   "execution_count": 13,
   "metadata": {
    "colab": {
     "base_uri": "https://localhost:8080/"
    },
    "id": "95Pb49vASa-P",
    "outputId": "32c99a12-e876-49de-d3bc-e1813ade81a1"
   },
   "outputs": [
    {
     "name": "stdout",
     "output_type": "stream",
     "text": [
      "Alice\n"
     ]
    }
   ],
   "source": [
    "#Q23 Write a code to access the value associated with the key \"name\" in the dictionary {'name': 'Alice', 'age': 30}.\n",
    "\n",
    "# Define the dictionary\n",
    "person = {'name': 'Alice', 'age': 30}\n",
    "\n",
    "# Access the value associated with the key \"name\"\n",
    "print(person['name'])"
   ]
  },
  {
   "cell_type": "code",
   "execution_count": 14,
   "metadata": {
    "colab": {
     "base_uri": "https://localhost:8080/"
    },
    "id": "3lXWzoSYSoyy",
    "outputId": "b1e4cf02-1560-46b9-ae0f-13e50c30671f"
   },
   "outputs": [
    {
     "name": "stdout",
     "output_type": "stream",
     "text": [
      "{'name': 'Bob', 'city': 'New York'}\n"
     ]
    }
   ],
   "source": [
    "#Q24 Write a code to remove the key \"age\" from the dictionary {'name': 'Bob', 'age': 22, 'city': 'New York'}.\n",
    "\n",
    "# Creating the dictionary\n",
    "person = {'name': 'Bob', 'age': 22, 'city': 'New York'}\n",
    "\n",
    "# Removing the key \"age\"\n",
    "del person['age']\n",
    "\n",
    "# Printing the updated dictionary\n",
    "print(person)"
   ]
  },
  {
   "cell_type": "code",
   "execution_count": 15,
   "metadata": {
    "colab": {
     "base_uri": "https://localhost:8080/"
    },
    "id": "z401Nbx5TBRC",
    "outputId": "b550650e-e38d-421c-e8d5-46031c05c9ea"
   },
   "outputs": [
    {
     "name": "stdout",
     "output_type": "stream",
     "text": [
      "Key 'city' exists in the dictionary.\n"
     ]
    }
   ],
   "source": [
    "#Q25 Write a code to check if the key \"city\" exists in the dictionary {'name': 'Alice', 'city': 'Paris'}.\n",
    "\n",
    "# Define the dictionary\n",
    "my_dict = {'name': 'Alice', 'city': 'Paris'}\n",
    "\n",
    "# Check if the key \"city\" exists\n",
    "if 'city' in my_dict:\n",
    "    print(\"Key 'city' exists in the dictionary.\")\n",
    "else:\n",
    "    print(\"Key 'city' does not exist in the dictionary.\")"
   ]
  },
  {
   "cell_type": "code",
   "execution_count": 16,
   "metadata": {
    "colab": {
     "base_uri": "https://localhost:8080/"
    },
    "id": "bGjeOWX_TW6b",
    "outputId": "42f7a6fd-4320-4e00-8133-520a49148d37"
   },
   "outputs": [
    {
     "name": "stdout",
     "output_type": "stream",
     "text": [
      "List: [1, 2, 3, 4, 5]\n",
      "Tuple: (10, 20, 30, 40, 50)\n",
      "Dictionary: {'name': 'Alice', 'age': 25, 'city': 'New York'}\n"
     ]
    }
   ],
   "source": [
    "#Q26 Write a code to create a list, a tuple, and a dictionary, and print them all.\n",
    "\n",
    "# Creating a list, a tuple, and a dictionary\n",
    "my_list = [1, 2, 3, 4, 5]\n",
    "my_tuple = (10, 20, 30, 40, 50)\n",
    "my_dict = {\"name\": \"Alice\", \"age\": 25, \"city\": \"New York\"}\n",
    "\n",
    "# Printing all\n",
    "print(\"List:\", my_list)\n",
    "print(\"Tuple:\", my_tuple)\n",
    "print(\"Dictionary:\", my_dict)"
   ]
  },
  {
   "cell_type": "code",
   "execution_count": 21,
   "metadata": {
    "colab": {
     "base_uri": "https://localhost:8080/"
    },
    "id": "xM9t1tMBToRo",
    "outputId": "1f2bc325-15ce-46cd-8165-69d68650ee5d"
   },
   "outputs": [
    {
     "name": "stdout",
     "output_type": "stream",
     "text": [
      "Sorted random numbers: [2, 11, 21, 22, 81]\n"
     ]
    }
   ],
   "source": [
    "#Q27 Write a code to create a list of 5 random numbers between 1 and 100, sort it in ascending order, and print the result(replaced)\n",
    "\n",
    "# Importing the random module\n",
    "import random\n",
    "\n",
    "# Generating a list of 5 random numbers between 1 and 100\n",
    "random_numbers = [random.randint(1, 100) for _ in range(5)]\n",
    "\n",
    "# Sorting the list in ascending order\n",
    "random_numbers.sort()\n",
    "\n",
    "# Printing the sorted list\n",
    "print(\"Sorted random numbers:\", random_numbers)"
   ]
  },
  {
   "cell_type": "code",
   "execution_count": 22,
   "metadata": {
    "colab": {
     "base_uri": "https://localhost:8080/"
    },
    "id": "lyR1BeReUBMB",
    "outputId": "fba82fc8-559d-47b5-8e9e-7d1b5f2f7793"
   },
   "outputs": [
    {
     "name": "stdout",
     "output_type": "stream",
     "text": [
      "date\n"
     ]
    }
   ],
   "source": [
    "#Q28 Write a code to create a list with strings and print the element at the third index.\n",
    "\n",
    "# Creating a list with strings\n",
    "string_list = [\"apple\", \"banana\", \"cherry\", \"date\", \"elderberry\"]\n",
    "\n",
    "# Printing the element at the third index\n",
    "print(string_list[3])"
   ]
  },
  {
   "cell_type": "code",
   "execution_count": 23,
   "metadata": {
    "colab": {
     "base_uri": "https://localhost:8080/"
    },
    "id": "6XFijuHRWOi3",
    "outputId": "4c3e5515-4293-453d-d821-3bf209866d6d"
   },
   "outputs": [
    {
     "name": "stdout",
     "output_type": "stream",
     "text": [
      "{'a': 1, 'b': 2, 'c': 3, 'd': 4}\n"
     ]
    }
   ],
   "source": [
    "#Q29 Write a code to combine two dictionaries into one and print the result.\n",
    "\n",
    "# Define two dictionaries\n",
    "dict1 = {'a': 1, 'b': 2}\n",
    "dict2 = {'c': 3, 'd': 4}\n",
    "\n",
    "# Merge dictionaries\n",
    "combined_dict = {**dict1, **dict2}\n",
    "\n",
    "# Print result\n",
    "print(combined_dict)\n"
   ]
  },
  {
   "cell_type": "code",
   "execution_count": 24,
   "metadata": {
    "colab": {
     "base_uri": "https://localhost:8080/"
    },
    "id": "sF_enS7WWfr7",
    "outputId": "6cd000ba-89be-42ac-a7af-e7f5e42bf8d9"
   },
   "outputs": [
    {
     "name": "stdout",
     "output_type": "stream",
     "text": [
      "{'apple', 'banana', 'cherry'}\n"
     ]
    }
   ],
   "source": [
    "#Q30 Write a code to convert a list of strings into a set.\n",
    "\n",
    "# Define a list of strings\n",
    "string_list = [\"apple\", \"banana\", \"cherry\", \"apple\", \"banana\"]\n",
    "\n",
    "# Convert the list into a set\n",
    "string_set = set(string_list)\n",
    "\n",
    "# Print the result\n",
    "print(string_set)"
   ]
  },
  {
   "cell_type": "code",
   "execution_count": null,
   "metadata": {
    "id": "4TOA4gooWtnE"
   },
   "outputs": [],
   "source": []
  }
 ],
 "metadata": {
  "colab": {
   "provenance": []
  },
  "kernelspec": {
   "display_name": "Python [conda env:base] *",
   "language": "python",
   "name": "conda-base-py"
  },
  "language_info": {
   "codemirror_mode": {
    "name": "ipython",
    "version": 3
   },
   "file_extension": ".py",
   "mimetype": "text/x-python",
   "name": "python",
   "nbconvert_exporter": "python",
   "pygments_lexer": "ipython3",
   "version": "3.12.7"
  }
 },
 "nbformat": 4,
 "nbformat_minor": 4
}
